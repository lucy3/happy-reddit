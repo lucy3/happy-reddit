{
 "cells": [
  {
   "cell_type": "code",
   "execution_count": 1,
   "metadata": {},
   "outputs": [
    {
     "data": {
      "application/javascript": [
       "IPython.OutputArea.prototype._should_scroll = function(lines) {\n",
       "    return false;\n",
       "}"
      ],
      "text/plain": [
       "<IPython.core.display.Javascript object>"
      ]
     },
     "metadata": {},
     "output_type": "display_data"
    }
   ],
   "source": [
    "%%javascript\n",
    "IPython.OutputArea.prototype._should_scroll = function(lines) {\n",
    "    return false;\n",
    "}"
   ]
  },
  {
   "cell_type": "code",
   "execution_count": 2,
   "metadata": {},
   "outputs": [],
   "source": [
    "import matplotlib\n",
    "matplotlib.use(\"Agg\")\n",
    "import matplotlib.pyplot as plt\n",
    "%matplotlib inline\n",
    "import itertools\n",
    "import scipy.stats\n",
    "import json\n",
    "import numpy as np\n",
    "\n",
    "TOPIC_GRAPH = \"../logs/topic_edges.tsv\"\n",
    "USER_GRAPH = \"../logs/user_edges.tsv\"\n",
    "TOPIC_NODES = \"../logs/topic_nodes.tsv\"\n",
    "USER_NODES = \"../logs/user_nodes.tsv\"\n",
    "GILDS = \"../logs/comment_gilds.json\"\n",
    "RANK = \"../logs/comment_rank_all.json\"\n",
    "INPUT = \"/dfs/dataset/infolab/Reddit/comments/2015/RC_2015-05\"\n",
    "POST_IDs = \"../data/post_IDs.txt\"\n",
    "TOP_100 = \"../logs/top_100subreddits_comments.txt\""
   ]
  },
  {
   "cell_type": "code",
   "execution_count": 7,
   "metadata": {},
   "outputs": [
    {
     "data": {
      "image/png": "[encoded data removed]",
      "text/plain": [
       "<matplotlib.figure.Figure at 0x7fd9a588a1d0>"
      ]
     },
     "metadata": {},
     "output_type": "display_data"
    }
   ],
   "source": [
    "# for gilded versus nongilded, average and std for rank\n",
    "def gild_and_rank():\n",
    "    gilded_vals = []\n",
    "    nongilded_vals = []\n",
    "    with open(GILDS, 'r') as gilds_file:\n",
    "        gilds = json.load(gilds_file)\n",
    "    with open(RANK, 'r') as rank_file:\n",
    "        rank = json.load(rank_file)\n",
    "    for key in gilds:\n",
    "        if gilds[key] >= 1:\n",
    "            gilded_vals.append(rank[key])\n",
    "        else:\n",
    "            nongilded_vals.append(rank[key])\n",
    "    print \"gilded mean, std:\", np.mean(gilded_vals), np.std(gilded_vals)\n",
    "    print \"nongilded mean, std:\", np.mean(nongilded_vals), np.std(nongilded_vals)\n",
    "    #gilded mean, std: 1.20753628761 0.65439670175\n",
    "    #nongilded mean, std: 2.55127257704 1.12074075832\n",
    "def bar_chart():\n",
    "    plt.bar([1, 2], [4-1.20753628761, 4-2.55127257704], \\\n",
    "           yerr = [0.65439670175, 1.12074075832], align='center', alpha=0.5)\n",
    "    plt.xticks([1, 2], ['gilded', 'nongilded'])\n",
    "    plt.ylabel('Average Quartile')\n",
    "    plt.title('Upvote Popularity of Gilded vs Non-Gilded Comments')\n",
    "bar_chart()"
   ]
  },
  {
   "cell_type": "code",
   "execution_count": 4,
   "metadata": {
    "collapsed": true
   },
   "outputs": [],
   "source": [
    "# pearson correlation between topic similarity and user similarity graphs\n",
    "def similarity():\n",
    "    tnode_ids = {}\n",
    "    with open(TOPIC_NODES, 'r') as tnodes_file:\n",
    "        for line in tnodes_file:\n",
    "            contents = line.split('\\t')\n",
    "            if contents[0] != 'Id':\n",
    "                tnode_ids[contents[1]] = contents[0]\n",
    "    unode_ids = {}\n",
    "    with open(USER_NODES, 'r') as unodes_file:\n",
    "        for line in unodes_file:\n",
    "            contents = line.split('\\t')\n",
    "            if contents[0] != 'Id':\n",
    "                unode_ids[contents[1]] = contents[0]\n",
    "    topic_sim = {}\n",
    "    with open(TOPIC_GRAPH, 'r') as topic_file:\n",
    "        for line in topic_file:\n",
    "            contents = line.split('\\t')\n",
    "            if contents[0] != 'Source':\n",
    "                topic_sim[tuple(sorted([contents[0], contents[1]]))] = float(contents[2])\n",
    "    user_sim = {}\n",
    "    with open(USER_GRAPH, 'r') as user_file:\n",
    "        for line in user_file:\n",
    "            contents = line.split('\\t')\n",
    "            if contents[0] != 'Source':\n",
    "                user_sim[tuple(sorted([contents[0], contents[1]]))] = float(contents[2])\n",
    "    x = []\n",
    "    y = []\n",
    "    for pair in itertools.combinations(tnode_ids.keys(), 2):\n",
    "        pair_IDs = tuple(sorted([tnode_ids[pair[0]], tnode_ids[pair[1]]]))\n",
    "        x.append(topic_sim[pair_IDs])\n",
    "        pair_IDs = tuple(sorted([unode_ids[pair[0]], unode_ids[pair[1]]]))\n",
    "        y.append(user_sim[pair_IDs])\n",
    "    plt.scatter(x, y)\n",
    "    print \"Pearson correlation:\", scipy.stats.pearsonr(x, y)\n",
    "    plt.xlabel(\"topic similarity\")\n",
    "    plt.ylabel(\"user similarity\")\n",
    "    plt.title(\"Correlation of Subreddit Similarities\")\n",
    "    plt.show()"
   ]
  },
  {
   "cell_type": "code",
   "execution_count": 5,
   "metadata": {
    "collapsed": true
   },
   "outputs": [],
   "source": [
    "def count_deleted_gilds():\n",
    "    subreddits = set()\n",
    "    with open(TOP_100, 'r') as top: \n",
    "        for line in top: \n",
    "            subreddits.add(line.strip())\n",
    "    with open(POST_IDs, 'r') as post_id_file: \n",
    "        # all posts in May 2015\n",
    "        post_ids = set(post_id_file.read().split())\n",
    "    scores = {}\n",
    "    gilds = {}\n",
    "    count = 0\n",
    "    with open(INPUT, 'r') as input_file:\n",
    "        for line in input_file:\n",
    "            comment = json.loads(line)\n",
    "            post_id = comment['link_id'].split('_')[-1]\n",
    "            subreddit = comment['subreddit']\n",
    "            if post_id in post_ids and subreddit in subreddits: \n",
    "                # only get comments of May 2015 posts\n",
    "                # in the top 100 subreddits\n",
    "                if comment['gilded'] == 1 and comment['author'] == \"[deleted]\":\n",
    "                    count += 1\n",
    "    print count"
   ]
  },
  {
   "cell_type": "code",
   "execution_count": null,
   "metadata": {
    "collapsed": true
   },
   "outputs": [],
   "source": []
  }
 ],
 "metadata": {
  "kernelspec": {
   "display_name": "Python 2",
   "language": "python",
   "name": "python2"
  },
  "language_info": {
   "codemirror_mode": {
    "name": "ipython",
    "version": 2
   },
   "file_extension": ".py",
   "mimetype": "text/x-python",
   "name": "python",
   "nbconvert_exporter": "python",
   "pygments_lexer": "ipython2",
   "version": "2.7.13"
  }
 },
 "nbformat": 4,
 "nbformat_minor": 2
}
