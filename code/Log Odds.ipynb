{
 "cells": [
  {
   "cell_type": "code",
   "execution_count": 1,
   "metadata": {},
   "outputs": [
    {
     "data": {
      "application/javascript": [
       "IPython.OutputArea.prototype._should_scroll = function(lines) {\n",
       "    return false;\n",
       "}"
      ],
      "text/plain": [
       "<IPython.core.display.Javascript object>"
      ]
     },
     "metadata": {},
     "output_type": "display_data"
    }
   ],
   "source": [
    "%%javascript\n",
    "IPython.OutputArea.prototype._should_scroll = function(lines) {\n",
    "    return false;\n",
    "}"
   ]
  },
  {
   "cell_type": "code",
   "execution_count": 2,
   "metadata": {},
   "outputs": [
    {
     "name": "stderr",
     "output_type": "stream",
     "text": [
      "/usr/lib64/python2.7/site-packages/matplotlib/font_manager.py:273: UserWarning: Matplotlib is building the font cache using fc-list. This may take a moment.\n",
      "  warnings.warn('Matplotlib is building the font cache using fc-list. This may take a moment.')\n"
     ]
    },
    {
     "ename": "ImportError",
     "evalue": "No module named adjustText",
     "output_type": "error",
     "traceback": [
      "\u001b[0;31m---------------------------------------------------------------------------\u001b[0m",
      "\u001b[0;31mImportError\u001b[0m                               Traceback (most recent call last)",
      "\u001b[0;32m<ipython-input-2-7e51a7267e6d>\u001b[0m in \u001b[0;36m<module>\u001b[0;34m()\u001b[0m\n\u001b[1;32m     11\u001b[0m \u001b[0;32mimport\u001b[0m \u001b[0mseaborn\u001b[0m \u001b[0;32mas\u001b[0m \u001b[0msns\u001b[0m\u001b[0;34m\u001b[0m\u001b[0m\n\u001b[1;32m     12\u001b[0m \u001b[0;32mimport\u001b[0m \u001b[0mre\u001b[0m\u001b[0;34m\u001b[0m\u001b[0m\n\u001b[0;32m---> 13\u001b[0;31m \u001b[0;32mfrom\u001b[0m \u001b[0madjustText\u001b[0m \u001b[0;32mimport\u001b[0m \u001b[0madjust_text\u001b[0m\u001b[0;34m\u001b[0m\u001b[0m\n\u001b[0m",
      "\u001b[0;31mImportError\u001b[0m: No module named adjustText"
     ]
    }
   ],
   "source": [
    "import numpy as np\n",
    "import os, sys\n",
    "import json\n",
    "import pandas as pd\n",
    "import matplotlib\n",
    "matplotlib.use('Agg')\n",
    "import matplotlib.pyplot as plt\n",
    "from collections import defaultdict\n",
    "import unicodedata\n",
    "%matplotlib inline\n",
    "import seaborn as sns\n",
    "import re\n",
    "from adjustText import adjust_text"
   ]
  },
  {
   "cell_type": "code",
   "execution_count": null,
   "metadata": {
    "collapsed": true
   },
   "outputs": [],
   "source": [
    "LOG_ODDS = '../logs/log_odds/'"
   ]
  },
  {
   "cell_type": "code",
   "execution_count": null,
   "metadata": {
    "collapsed": true
   },
   "outputs": [],
   "source": [
    "def log_odds_plot():\n",
    "    grams = ['1', '2', '3']\n",
    "    for g in grams:\n",
    "        frequency_file = open(LOG_ODDS+ g + 'prior.out')\n",
    "        gram_file = open(LOG_ODDS + g + 'gram_log_odds.out')\n",
    "        freqs = {}\n",
    "        for line in frequency_file:\n",
    "            contents = line.split()\n",
    "            freqs[contents[1].replace('$', ' ')] = contents[0]\n",
    "        gram_dict = {}\n",
    "        for line in gram_file:\n",
    "            contents = line.split()\n",
    "            gram_dict[contents[0].replace('$', ' ')] = contents[1]\n",
    "        keys = [k for k in sorted(gram_dict.keys()) if float(freqs[k]) > 50]\n",
    "        gram_values = [float(gram_dict[k]) for k in sorted(gram_dict.keys()) \n",
    "                       if float(freqs[k]) > 50]\n",
    "        freqs_values = [float(freqs[k]) for k in sorted(freqs.keys())\n",
    "                       if float(freqs[k]) > 50]\n",
    "        size = [abs(v**2/5.0) for v in gram_values]\n",
    "        \n",
    "        plt.rcParams[\"figure.figsize\"] = (10,7)\n",
    "        fig = plt.figure()\n",
    "        ax = plt.gca()\n",
    "        if g == '3':\n",
    "            ax.set_ylim(-10, 20)\n",
    "        ax.scatter(freqs_values, gram_values, s=size, alpha=0.5)\n",
    "        ax.set_xscale('log')\n",
    "        ax.set_xlabel('word frequency', fontsize=18)\n",
    "        ax.set_ylabel('log odds (gilded - not gilded)', fontsize=18)\n",
    "        top_ten_threshold = sorted(gram_values)[-15]\n",
    "        bottom_ten_threshold = sorted(gram_values)[15]\n",
    "        texts = []\n",
    "        for i, txt in enumerate(keys):\n",
    "            if gram_values[i] > top_ten_threshold and freqs_values[i] > 100:\n",
    "                texts.append(ax.text(freqs_values[i], gram_values[i], txt, fontsize=18))\n",
    "            elif gram_values[i] < bottom_ten_threshold and freqs_values[i] > 100:\n",
    "                texts.append(ax.text(freqs_values[i], gram_values[i], txt, fontsize=18))\n",
    "        adjust_text(texts)\n",
    "        plt.show()\n",
    "        plt.close()"
   ]
  },
  {
   "cell_type": "code",
   "execution_count": null,
   "metadata": {
    "collapsed": true
   },
   "outputs": [],
   "source": [
    "log_odds_plot()"
   ]
  }
 ],
 "metadata": {
  "kernelspec": {
   "display_name": "Python 2",
   "language": "python",
   "name": "python2"
  },
  "language_info": {
   "codemirror_mode": {
    "name": "ipython",
    "version": 2
   },
   "file_extension": ".py",
   "mimetype": "text/x-python",
   "name": "python",
   "nbconvert_exporter": "python",
   "pygments_lexer": "ipython2",
   "version": "2.7.13"
  }
 },
 "nbformat": 4,
 "nbformat_minor": 2
}
